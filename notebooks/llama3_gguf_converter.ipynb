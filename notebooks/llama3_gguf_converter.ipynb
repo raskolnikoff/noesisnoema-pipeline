{
 "cells": [
  {
   "cell_type": "code",
   "execution_count": null,
   "id": "initial_id",
   "metadata": {
    "collapsed": true
   },
   "outputs": [],
   "source": [
    "# Llama-3 to GGUF Converter (Colab)\n",
    "\n",
    "## This notebook converts a downloaded Llama-3 model (e.g., Llama-3-8B-Instruct) to GGUF format for use with llama.cpp.\n",
    "\n",
    "## 1. Install dependencies\n",
    "\n",
    "```python\n",
    "!pip install git+https://github.com/ggerganov/llama.cpp\n",
    "!pip install huggingface_hub transformers sentencepiece"
   ]
  },
  {
   "metadata": {},
   "cell_type": "code",
   "outputs": [],
   "execution_count": null,
   "source": [
    "from huggingface_hub import notebook_login\n",
    "notebook_login()"
   ],
   "id": "b95a48346fa98978"
  },
  {
   "metadata": {},
   "cell_type": "code",
   "outputs": [],
   "execution_count": null,
   "source": [
    "from huggingface_hub import snapshot_download\n",
    "\n",
    "# Change model_id if you want a different model (Llama-3-8B-Instruct, Llama-3-70B, etc.)\n",
    "model_id = \"meta-llama/Llama-3-8B-Instruct\"\n",
    "\n",
    "# This will create a directory in /content\n",
    "weights_dir = snapshot_download(repo_id=model_id, allow_patterns=[\"*.bin\", \"*.json\", \"*.model\", \"*.txt\"])\n",
    "print(f\"Model downloaded to: {weights_dir}\")"
   ],
   "id": "700efaeeefcd5b1e"
  },
  {
   "metadata": {},
   "cell_type": "code",
   "outputs": [],
   "execution_count": null,
   "source": [
    "!git clone https://github.com/ggerganov/llama.cpp.git\n",
    "%cd llama.cpp/scripts"
   ],
   "id": "537bcd62ae20467"
  },
  {
   "metadata": {},
   "cell_type": "code",
   "outputs": [],
   "execution_count": null,
   "source": [
    "import os\n",
    "\n",
    "gguf_out = \"/content/llama3-8b.gguf\"\n",
    "# Run conversion script (for Llama-3 only)\n",
    "!python3 convert-llama3-to-gguf.py \\\n",
    "  --outtype f16 \\\n",
    "  --outfile {gguf_out} \\\n",
    "  {weights_dir}\n",
    "\n",
    "print(f\"GGUF model saved to: {gguf_out}\")"
   ],
   "id": "74f0a0e7818913c8"
  },
  {
   "metadata": {},
   "cell_type": "code",
   "outputs": [],
   "execution_count": null,
   "source": [
    "from google.colab import files\n",
    "files.download(gguf_out)"
   ],
   "id": "b9c8b6026d46c27b"
  }
 ],
 "metadata": {
  "kernelspec": {
   "display_name": "Python 3",
   "language": "python",
   "name": "python3"
  },
  "language_info": {
   "codemirror_mode": {
    "name": "ipython",
    "version": 2
   },
   "file_extension": ".py",
   "mimetype": "text/x-python",
   "name": "python",
   "nbconvert_exporter": "python",
   "pygments_lexer": "ipython2",
   "version": "2.7.6"
  }
 },
 "nbformat": 4,
 "nbformat_minor": 5
}
