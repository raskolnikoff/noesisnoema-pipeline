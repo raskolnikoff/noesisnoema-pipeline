{
 "cells": [
  {
   "metadata": {},
   "cell_type": "code",
   "outputs": [],
   "execution_count": null,
   "source": [
    "import ipywidgets as widgets\n",
    "from IPython.display import display\n",
    "\n",
    "model_selector = widgets.Dropdown(\n",
    "    options=[\n",
    "        \"meta-llama/Llama-3.1-8B-Instruct\",\n",
    "        \"distilgpt2\",\n",
    "        \"google/gemma-2b\",\n",
    "        \"mistralai/Mistral-7B-Instruct-v0.2\"\n",
    "    ],\n",
    "    value=\"meta-llama/Llama-3.1-8B-Instruct\",\n",
    "    description=\"Select Model:\",\n",
    "    disabled=False,\n",
    ")\n",
    "display(model_selector)\n"
   ],
   "id": "5aee32b174b94622"
  },
  {
   "metadata": {},
   "cell_type": "code",
   "outputs": [],
   "execution_count": null,
   "source": [
    "from huggingface_hub import login\n",
    "login()  # Enter your HuggingFace access token\n",
    "\n",
    "from transformers import AutoTokenizer\n",
    "MODEL_ID = model_selector.value\n",
    "\n",
    "tokenizer = AutoTokenizer.from_pretrained(MODEL_ID, use_auth_token=True)\n",
    "output_dir = f\"tokenizer_{MODEL_ID.replace('/', '_')}\"\n",
    "tokenizer.save_pretrained(output_dir)\n",
    "print(f\"Tokenizer saved to: {output_dir}\")\n"
   ],
   "id": "56a341fd01c54eb6"
  },
  {
   "metadata": {},
   "cell_type": "code",
   "outputs": [],
   "execution_count": null,
   "source": [
    "import shutil\n",
    "zip_filename = f\"{MODEL_ID.replace('/', '_')}_tokenizer\"\n",
    "shutil.make_archive(zip_filename, 'zip', output_dir)\n",
    "print(f\"Tokenizer directory zipped to: {zip_filename}.zip\")\n"
   ],
   "id": "863263257d9f77aa"
  }
 ],
 "metadata": {
  "kernelspec": {
   "display_name": "Python 3",
   "language": "python",
   "name": "python3"
  },
  "language_info": {
   "codemirror_mode": {
    "name": "ipython",
    "version": 2
   },
   "file_extension": ".py",
   "mimetype": "text/x-python",
   "name": "python",
   "nbconvert_exporter": "python",
   "pygments_lexer": "ipython2",
   "version": "2.7.6"
  }
 },
 "nbformat": 4,
 "nbformat_minor": 5
}
